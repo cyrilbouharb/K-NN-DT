{
 "cells": [
  {
   "cell_type": "code",
   "execution_count": 151,
   "metadata": {},
   "outputs": [],
   "source": [
    "import pandas as pd\n",
    "import numpy as np\n",
    "import matplotlib.pyplot as plt\n",
    "from sklearn.utils import shuffle\n",
    "from sklearn.model_selection import train_test_split"
   ]
  },
  {
   "cell_type": "code",
   "execution_count": 152,
   "metadata": {},
   "outputs": [],
   "source": [
    "dataset = pd.read_csv('data/house_votes_84.csv')"
   ]
  },
  {
   "cell_type": "code",
   "execution_count": 153,
   "metadata": {},
   "outputs": [
    {
     "data": {
      "text/html": [
       "<div>\n",
       "<style scoped>\n",
       "    .dataframe tbody tr th:only-of-type {\n",
       "        vertical-align: middle;\n",
       "    }\n",
       "\n",
       "    .dataframe tbody tr th {\n",
       "        vertical-align: top;\n",
       "    }\n",
       "\n",
       "    .dataframe thead th {\n",
       "        text-align: right;\n",
       "    }\n",
       "</style>\n",
       "<table border=\"1\" class=\"dataframe\">\n",
       "  <thead>\n",
       "    <tr style=\"text-align: right;\">\n",
       "      <th></th>\n",
       "      <th>handicapped-infants</th>\n",
       "      <th>water-project-cost-sharing</th>\n",
       "      <th>adoption-of-the-budget-resolution</th>\n",
       "      <th>physician-fee-freeze</th>\n",
       "      <th>el-salvador-adi</th>\n",
       "      <th>religious-groups-in-schools</th>\n",
       "      <th>anti-satellite-test-ban</th>\n",
       "      <th>aid-to-nicaraguan-contras</th>\n",
       "      <th>mx-missile</th>\n",
       "      <th>immigration</th>\n",
       "      <th>synfuels-corporation-cutback</th>\n",
       "      <th>education-spending</th>\n",
       "      <th>superfund-right-to-sue</th>\n",
       "      <th>crime</th>\n",
       "      <th>duty-free-exports</th>\n",
       "      <th>export-administration-act-south-africa</th>\n",
       "      <th>target</th>\n",
       "    </tr>\n",
       "  </thead>\n",
       "  <tbody>\n",
       "    <tr>\n",
       "      <th>0</th>\n",
       "      <td>1</td>\n",
       "      <td>2</td>\n",
       "      <td>1</td>\n",
       "      <td>2</td>\n",
       "      <td>2</td>\n",
       "      <td>2</td>\n",
       "      <td>1</td>\n",
       "      <td>1</td>\n",
       "      <td>1</td>\n",
       "      <td>2</td>\n",
       "      <td>0</td>\n",
       "      <td>2</td>\n",
       "      <td>2</td>\n",
       "      <td>2</td>\n",
       "      <td>1</td>\n",
       "      <td>2</td>\n",
       "      <td>1</td>\n",
       "    </tr>\n",
       "    <tr>\n",
       "      <th>1</th>\n",
       "      <td>1</td>\n",
       "      <td>2</td>\n",
       "      <td>1</td>\n",
       "      <td>2</td>\n",
       "      <td>2</td>\n",
       "      <td>2</td>\n",
       "      <td>1</td>\n",
       "      <td>1</td>\n",
       "      <td>1</td>\n",
       "      <td>1</td>\n",
       "      <td>1</td>\n",
       "      <td>2</td>\n",
       "      <td>2</td>\n",
       "      <td>2</td>\n",
       "      <td>1</td>\n",
       "      <td>0</td>\n",
       "      <td>1</td>\n",
       "    </tr>\n",
       "    <tr>\n",
       "      <th>2</th>\n",
       "      <td>0</td>\n",
       "      <td>2</td>\n",
       "      <td>2</td>\n",
       "      <td>0</td>\n",
       "      <td>2</td>\n",
       "      <td>2</td>\n",
       "      <td>1</td>\n",
       "      <td>1</td>\n",
       "      <td>1</td>\n",
       "      <td>1</td>\n",
       "      <td>2</td>\n",
       "      <td>1</td>\n",
       "      <td>2</td>\n",
       "      <td>2</td>\n",
       "      <td>1</td>\n",
       "      <td>1</td>\n",
       "      <td>0</td>\n",
       "    </tr>\n",
       "    <tr>\n",
       "      <th>3</th>\n",
       "      <td>1</td>\n",
       "      <td>2</td>\n",
       "      <td>2</td>\n",
       "      <td>1</td>\n",
       "      <td>0</td>\n",
       "      <td>2</td>\n",
       "      <td>1</td>\n",
       "      <td>1</td>\n",
       "      <td>1</td>\n",
       "      <td>1</td>\n",
       "      <td>2</td>\n",
       "      <td>1</td>\n",
       "      <td>2</td>\n",
       "      <td>1</td>\n",
       "      <td>1</td>\n",
       "      <td>2</td>\n",
       "      <td>0</td>\n",
       "    </tr>\n",
       "    <tr>\n",
       "      <th>4</th>\n",
       "      <td>2</td>\n",
       "      <td>2</td>\n",
       "      <td>2</td>\n",
       "      <td>1</td>\n",
       "      <td>2</td>\n",
       "      <td>2</td>\n",
       "      <td>1</td>\n",
       "      <td>1</td>\n",
       "      <td>1</td>\n",
       "      <td>1</td>\n",
       "      <td>2</td>\n",
       "      <td>0</td>\n",
       "      <td>2</td>\n",
       "      <td>2</td>\n",
       "      <td>2</td>\n",
       "      <td>2</td>\n",
       "      <td>0</td>\n",
       "    </tr>\n",
       "  </tbody>\n",
       "</table>\n",
       "</div>"
      ],
      "text/plain": [
       "   handicapped-infants  water-project-cost-sharing  \\\n",
       "0                    1                           2   \n",
       "1                    1                           2   \n",
       "2                    0                           2   \n",
       "3                    1                           2   \n",
       "4                    2                           2   \n",
       "\n",
       "   adoption-of-the-budget-resolution  physician-fee-freeze  el-salvador-adi  \\\n",
       "0                                  1                     2                2   \n",
       "1                                  1                     2                2   \n",
       "2                                  2                     0                2   \n",
       "3                                  2                     1                0   \n",
       "4                                  2                     1                2   \n",
       "\n",
       "   religious-groups-in-schools  anti-satellite-test-ban  \\\n",
       "0                            2                        1   \n",
       "1                            2                        1   \n",
       "2                            2                        1   \n",
       "3                            2                        1   \n",
       "4                            2                        1   \n",
       "\n",
       "   aid-to-nicaraguan-contras  mx-missile  immigration  \\\n",
       "0                          1           1            2   \n",
       "1                          1           1            1   \n",
       "2                          1           1            1   \n",
       "3                          1           1            1   \n",
       "4                          1           1            1   \n",
       "\n",
       "   synfuels-corporation-cutback  education-spending  superfund-right-to-sue  \\\n",
       "0                             0                   2                       2   \n",
       "1                             1                   2                       2   \n",
       "2                             2                   1                       2   \n",
       "3                             2                   1                       2   \n",
       "4                             2                   0                       2   \n",
       "\n",
       "   crime  duty-free-exports  export-administration-act-south-africa  target  \n",
       "0      2                  1                                       2       1  \n",
       "1      2                  1                                       0       1  \n",
       "2      2                  1                                       1       0  \n",
       "3      1                  1                                       2       0  \n",
       "4      2                  2                                       2       0  "
      ]
     },
     "execution_count": 153,
     "metadata": {},
     "output_type": "execute_result"
    }
   ],
   "source": [
    "dataset.head()"
   ]
  },
  {
   "cell_type": "code",
   "execution_count": 154,
   "metadata": {},
   "outputs": [],
   "source": [
    "partitions = dataset.drop('target', axis=1)\n",
    "labels = dataset['target']\n",
    "features_train, features_test, labels_train, labels_test = train_test_split(\n",
    "  partitions,labels , test_size=0.2, shuffle=True)"
   ]
  },
  {
   "cell_type": "code",
   "execution_count": 155,
   "metadata": {},
   "outputs": [
    {
     "name": "stdout",
     "output_type": "stream",
     "text": [
      "Columns Index(['handicapped-infants', 'water-project-cost-sharing',\n",
      "       'adoption-of-the-budget-resolution', 'physician-fee-freeze',\n",
      "       'el-salvador-adi', 'religious-groups-in-schools',\n",
      "       'anti-satellite-test-ban', 'aid-to-nicaraguan-contras', 'mx-missile',\n",
      "       'immigration', 'synfuels-corporation-cutback', 'education-spending',\n",
      "       'superfund-right-to-sue', 'crime', 'duty-free-exports',\n",
      "       'export-administration-act-south-africa'],\n",
      "      dtype='object')\n",
      "feature handicapped-infants\n",
      "0      1\n",
      "1      1\n",
      "2      0\n",
      "3      1\n",
      "4      2\n",
      "      ..\n",
      "430    1\n",
      "431    1\n",
      "432    1\n",
      "433    1\n",
      "434    1\n",
      "Name: handicapped-infants, Length: 435, dtype: int64\n",
      "<class 'pandas.core.series.Series'>\n"
     ]
    }
   ],
   "source": [
    "for feature in partitions.columns:\n",
    "    print(f'Columns {partitions.columns}')\n",
    "    print(f'feature {feature}')\n",
    "    print(partitions[feature])\n",
    "    print(type(partitions[feature]))\n",
    "    break"
   ]
  },
  {
   "cell_type": "code",
   "execution_count": 156,
   "metadata": {},
   "outputs": [],
   "source": [
    "class DT:\n",
    "    def __init__(self, max_depth=None, min_samples_leaf=1):\n",
    "        self.max_depth = max_depth\n",
    "        self.min_samples_leaf = min_samples_leaf\n",
    "        self.tree = None\n",
    "\n",
    "    def entropy(self, labels):\n",
    "        label, counts = np.unique(labels, return_counts=True)\n",
    "        prob = (counts / counts.sum())\n",
    "        return -np.sum(prob * np.log2(prob))\n",
    "\n",
    "    def information_gain(self, labels, partitions):\n",
    "        values, counts = np.unique(partitions, return_counts=True)\n",
    "        avg_entropy_of_partitions = sum((counts[i] / sum(counts)) * self.entropy(labels[partitions == value]) for i, value in enumerate(values))\n",
    "        return self.entropy(labels) - avg_entropy_of_partitions\n",
    "\n",
    "    def best_split(self, features, labels):\n",
    "        best_gain = -np.inf\n",
    "        best_feature = None\n",
    "        for feature in features.columns:\n",
    "            info_gain = self.information_gain(labels, features[feature])\n",
    "            if info_gain > best_gain:\n",
    "                best_gain, best_feature = info_gain, feature\n",
    "        return best_feature\n",
    "\n",
    "    def build_dt(self, features, labels, depth=0):\n",
    "        if len(np.unique(labels)) == 1 or len(features) < self.min_samples_leaf or (self.max_depth and depth == self.max_depth):\n",
    "            return np.unique(labels)[0]\n",
    "        else:\n",
    "            best_feature = self.best_split(features, labels)\n",
    "            if best_feature is None:\n",
    "                return np.unique(labels)[np.argmax(np.unique(labels, return_counts=True)[1])]\n",
    "            tree = {best_feature: {}}\n",
    "            for value in np.unique(features[best_feature]):\n",
    "                sub_feature = features[features[best_feature] == value].drop([best_feature], axis=1)\n",
    "                subtree = self.build_dt(sub_feature, labels[features[best_feature] == value], depth+1)\n",
    "                tree[best_feature][value] = subtree\n",
    "            return tree\n",
    "\n",
    "    def fit(self, features, labels):\n",
    "        self.tree = self.build_dt(features, labels)\n",
    "        \n",
    "    def predict(self, dataset):\n",
    "        predictions = []\n",
    "        for index, instance in dataset.iterrows():\n",
    "            prediction = self.predict_helper(instance, self.tree)\n",
    "            predictions.append(prediction)\n",
    "        return np.array(predictions)\n",
    "    \n",
    "    def predict_helper(self, instance, tree):\n",
    "        if not isinstance(tree, dict):\n",
    "            return tree\n",
    "        feature = next(iter(tree))\n",
    "        if instance[feature] in tree[feature]:\n",
    "            return self.predict_helper(instance, tree[feature][instance[feature]])\n",
    "        else:\n",
    "            return np.nan\n"
   ]
  },
  {
   "cell_type": "code",
   "execution_count": 157,
   "metadata": {},
   "outputs": [
    {
     "name": "stdout",
     "output_type": "stream",
     "text": [
      "[0 0 1 0 1 1 0 1 0 0 0 1 0 0 1 1 1 1 1 1 1 0 1 0 0 1 0 0 0 0 0 1 0 0 0 0 0\n",
      " 0 1 0 1 0 0 1 0 0 0 0 0 1 0 0 0 0 0 1 0 0 0 0 0 1 1 1 0 0 1 0 1 0 1 0 0 0\n",
      " 1 1 0 0 0 1 0 1 1 0 0 0 1 0 0 0 0 1 0 0 0 0 0 1 0 1 0 0 0 1 0 1 0 0 0 0 0\n",
      " 0 0 1 1 0 0 0 0 0 1 0 1 0 1 0 1 0 1 0 0 1 0 0 1 1 1 1 1 1 0 1 1 0 0 0 0 0\n",
      " 1 1 0 0 0 0 1 0 0 0 1 0 1 1 0 0 1 1 1 0 0 1 0 0 0 1 0 0 0 0 0 0 0 1 1 1 1\n",
      " 1 1 1 1 1 0 0 0 0 0 0 0 1 1 1 0 0 0 0 1 0 0 0 1 0 0 0 0 1 1 1 1 0 0 1 1 0\n",
      " 1 1 0 1 1 1 1 0 0 0 0 1 1 0 0 1 0 1 0 1 1 0 1 0 1 1 0 0 0 0 0 1 0 0 1 0 1\n",
      " 1 1 0 0 1 0 1 0 1 0 0 1 1 0 0 0 1 0 1 0 1 0 1 1 0 0 1 1 0 0 1 1 1 0 0 0 0\n",
      " 1 1 0 1 1 0 0 1 1 0 0 0 0 1 0 1 0 1 1 0 1 1 1 1 0 0 0 0 0 1 0 0 0 1 1 0 1\n",
      " 0 1 0 0 0 1 0 0 0 1 0 0 0 0 0]\n",
      "[0 0 1 0 1 1 1 0 1 1 1 0 0 0 0 1 1 0 0 0 1 1 1 0 0 0 0 0 0 1 1 0 0 0 0 0 0\n",
      " 0 0 0 0 0 1 0 0 1 0 0 0 1 1 1 0 0 0 0 1 0 1 0 0 0 1 0 0 0 1 1 1 1 0 1 0 1\n",
      " 0 0 0 0 0 0 0 0 0 0 1 0 1]\n"
     ]
    }
   ],
   "source": [
    "model = DT()\n",
    "model.fit(features_train, labels_train)\n",
    "training_pred = model.predict(features_train)\n",
    "testing_pred =  model.predict(features_test)\n",
    "print(training_pred)\n",
    "print(testing_pred)"
   ]
  },
  {
   "cell_type": "code",
   "execution_count": 158,
   "metadata": {},
   "outputs": [
    {
     "name": "stdout",
     "output_type": "stream",
     "text": [
      "The accuracy of our training is 1.0 \n",
      "The accuracy of our testing is 0.9540229885057471\n"
     ]
    }
   ],
   "source": [
    "training_accuracy = np.sum(training_pred == labels_train)/len(labels_train)\n",
    "testing_accuracy = np.sum(testing_pred == labels_test)/len(labels_test)\n",
    "print(f'The accuracy of our training is {training_accuracy} ')\n",
    "print(f'The accuracy of our testing is {testing_accuracy}')"
   ]
  },
  {
   "cell_type": "markdown",
   "metadata": {},
   "source": [
    "## Training the algorithm 100 times using the methodology"
   ]
  },
  {
   "cell_type": "code",
   "execution_count": 159,
   "metadata": {},
   "outputs": [],
   "source": [
    "training_accuracies = []\n",
    "testing_accuracies = []\n",
    "for _ in range(100):\n",
    "    shuffle(dataset)\n",
    "    partitions = dataset.drop('target', axis=1)\n",
    "    labels = dataset['target']\n",
    "    features_train, features_test, labels_train, labels_test = train_test_split(partitions,labels , test_size=0.2, shuffle=True)\n",
    "    # no need to normalize this is why I commented the line\n",
    "    # features_train, features_test = normalize(features_train, features_test)\n",
    "    model = DT()\n",
    "    model.fit(features_train, labels_train)\n",
    "    training_pred = model.predict(features_train)\n",
    "    testing_pred =  model.predict(features_test)\n",
    "    training_accuracy = np.sum(training_pred == labels_train)/len(labels_train)\n",
    "    testing_accuracy = np.sum(testing_pred == labels_test)/len(labels_test)\n",
    "    training_accuracies.append(training_accuracy)\n",
    "    testing_accuracies.append(testing_accuracy)\n"
   ]
  },
  {
   "cell_type": "markdown",
   "metadata": {},
   "source": [
    "**Q2.1 (12 Points)** In the first histogram, you should show the accuracy distribution when the\n",
    "algorithm is evaluated over training data. The horizontal axis should show different accuracy\n",
    "values, and the vertical axis should show the frequency with which that accuracy was observed\n",
    "while conducting these 100 experiments/training processes. The histogram should look like the\n",
    "one in Figure 3 (though the “shape” of the histogram you obtain may be different, of course).\n",
    "You should also report the mean accuracy and its standard deviation.\n"
   ]
  },
  {
   "cell_type": "code",
   "execution_count": 160,
   "metadata": {},
   "outputs": [
    {
     "data": {
      "image/png": "[encoded data removed]",
      "text/plain": [
       "<Figure size 640x480 with 1 Axes>"
      ]
     },
     "metadata": {},
     "output_type": "display_data"
    },
    {
     "name": "stdout",
     "output_type": "stream",
     "text": [
      "Average of training 1.0\n",
      "Standard Deviation of training 0.0\n"
     ]
    }
   ],
   "source": [
    "plt.hist(training_accuracies, alpha=1)\n",
    "plt.title('Training Accuracies')\n",
    "plt.xlabel('(Accuracy)')\n",
    "plt.ylabel('(Accuracy Frequency on Training Data)')\n",
    "avg_training_accuracy = np.mean(training_accuracies)\n",
    "std_training_accuracy = np.std(training_accuracies)\n",
    "plt.axvline(avg_training_accuracy, color='k', linestyle='dashed', linewidth=1)\n",
    "plt.axvline(avg_training_accuracy - std_training_accuracy, color='r', linestyle='dashed', linewidth=1)\n",
    "plt.axvline(avg_training_accuracy + std_training_accuracy, color='r', linestyle='dashed', linewidth=1)\n",
    "plt.text(avg_training_accuracy, plt.ylim()[1]*0.9, 'Mean {:.2f}'.format(avg_training_accuracy), horizontalalignment='center')\n",
    "plt.text(avg_training_accuracy - std_training_accuracy, plt.ylim()[1]*0.85, '-+1 STD 0', horizontalalignment='center', color='red')\n",
    "plt.show()\n",
    "print(f'Average of training {avg_training_accuracy}')\n",
    "print(f'Standard Deviation of training {std_training_accuracy}')"
   ]
  },
  {
   "cell_type": "markdown",
   "metadata": {},
   "source": [
    "**Q2.2 (12 Points)** In the second histogram, you should show the accuracy distribution when\n",
    "the algorithm is evaluated over testing data. The horizontal axis should show different accuracy\n",
    "values, and the vertical axis should show the frequency with which that accuracy was observed\n",
    "while conducting these 100 experiments/training processes. You should also report the mean\n",
    "accuracy and its standard deviation."
   ]
  },
  {
   "cell_type": "code",
   "execution_count": 162,
   "metadata": {},
   "outputs": [
    {
     "data": {
      "image/png": "[encoded data removed]",
      "text/plain": [
       "<Figure size 640x480 with 1 Axes>"
      ]
     },
     "metadata": {},
     "output_type": "display_data"
    },
    {
     "name": "stdout",
     "output_type": "stream",
     "text": [
      "Average of testing 0.9377011494252874\n",
      "Standard Deviation of testing 0.0236222976771781\n"
     ]
    }
   ],
   "source": [
    "plt.hist(testing_accuracies, alpha=1)\n",
    "plt.title('Testing Accuracies')\n",
    "plt.xlabel('Accuracy')\n",
    "plt.ylabel('Frequency')\n",
    "avg_testing_accuracy = np.mean(testing_accuracies)\n",
    "std_testing_accuracy = np.std(testing_accuracies)\n",
    "plt.axvline(avg_testing_accuracy, color='k', linestyle='dashed', linewidth=1)\n",
    "plt.axvline(avg_testing_accuracy - std_testing_accuracy, color='r', linestyle='dashed', linewidth=1)\n",
    "plt.axvline(avg_testing_accuracy + std_testing_accuracy, color='r', linestyle='dashed', linewidth=1)\n",
    "plt.text(avg_testing_accuracy, plt.ylim()[1]*0.9, 'Mean {:.2f}'.format(avg_testing_accuracy), horizontalalignment='center')\n",
    "plt.text(avg_testing_accuracy - std_testing_accuracy, plt.ylim()[1]*0.85, '-1 STD {:.2f}'.format(std_testing_accuracy), horizontalalignment='center', color='red')\n",
    "plt.text(avg_testing_accuracy + std_testing_accuracy, plt.ylim()[1]*0.85, '+1 STD {:.2f}'.format(std_testing_accuracy), horizontalalignment='center', color='red')\n",
    "plt.show()\n",
    "print(f'Average of testing {avg_testing_accuracy}')\n",
    "print(f'Standard Deviation of testing {std_testing_accuracy}')"
   ]
  },
  {
   "cell_type": "markdown",
   "metadata": {},
   "source": [
    "**Q2.3 (12 Points)** Explain intuitively why each of these histograms looks the way they do. Is\n",
    "there more variance in one of the histograms? If so, why do you think that is the case? Does one\n",
    "histogram show higher average accuracy than the other? If so, why do you think that is the case?\n"
   ]
  },
  {
   "cell_type": "markdown",
   "metadata": {},
   "source": [
    "The histogram of the training dataset has an accuracy of 1 and a std deviation off 0 which is expected in the context of decision trees since our model was trained on this data, so for every instance it's an instance that has a path already in the tree that it will follow and make the correct prediction of the class. In other words, decision trees are capable of perfectly memorizing the training data, the model is able to capture the pattern without any error.\n",
    "\n",
    "On the other hand, the histogram of the testing dataset has a high average accuracy around 0.93, which even though it's high is still lower than the one of the training dataset. This reduction in accuracy is due to the fact that we're actually making predictions this time, the model is encountering new unseen instances. The new instances may have different patterns which can lead to incorrect predictions. The stanfard deviation is aorund +- 0.02 which is higher than the 0 of the training but still small on the big scheme of things. This variability in the performance is normal since the model is generalizing so not all predicitons will be accurate. The model on average generalizes well to unseen data, this is shown with the high frequency in the middle around 0.93.\n",
    "\n"
   ]
  },
  {
   "cell_type": "markdown",
   "metadata": {},
   "source": [
    "**Q2.4 (8 Points)** By comparing the two histograms, would you say that the Decision Trees\n",
    "algorithm, when used in this dataset, is underfitting, overfitting, or performing reasonably well?\n",
    "Explain your reasoning"
   ]
  },
  {
   "cell_type": "markdown",
   "metadata": {},
   "source": [
    "In our case here, if we compare the two histograms we would say that the decision trees algorithm when used in this dataset is performing reasonably well, but there is some slight overfitting (not impacting the model tho). The training accuracy is 1 even when we run the code 100 times, which shows that the model is capable of perfectly memorizing the training data as mentioned earlier. We also saw that it generalizes well to new instances with an average testing accuracy of 0.93, while it might be slightly overfitting, 0.93 is still a pretty high accuracy score so I'm not sure if it's really impacting performance and the small variance proves that it's actually not, but we have to mention that there is some slight overfitting due to perfect training accuracy."
   ]
  },
  {
   "cell_type": "markdown",
   "metadata": {},
   "source": [
    "**Q2.5 (6 Points)** In class, we discussed how Decision Trees might be non-robust. Is it possible to\n",
    "experimentally confirm this property/tendency via these experiments, by analyzing the histograms\n",
    "you generated and their corresponding average accuracies and standard deviations? Explain your\n",
    "reasoning."
   ]
  },
  {
   "cell_type": "markdown",
   "metadata": {},
   "source": [
    "In class we saw that some of the cons of decision trees is that they might be non-robust: small variations in the dataset can generate completely different trees. So, a sign of non-robustness could be a higher standard deviations in the testing dataset due to changes in the training dataset due to shuffling and splitting. After shuffling and splitting our dataset and running our code 100 times changing the training subset we still have a low standard deviation for accuracy and the accuracies are still high so it's not possible through these experiments to confirm this property by analyzing the histograms generated and their corresponding average accuracies and standard deviations. Our decison tree in our case is robust and we're going to need a different dataset to confirm non-robustness since we have relatively stable testing accuracies across different experiments, with a low standard deviation close to the variance in training accuracies."
   ]
  },
  {
   "cell_type": "markdown",
   "metadata": {},
   "source": []
  }
 ],
 "metadata": {
  "kernelspec": {
   "display_name": "Python 3 (ipykernel)",
   "language": "python",
   "name": "python3"
  },
  "language_info": {
   "codemirror_mode": {
    "name": "ipython",
    "version": 3
   },
   "file_extension": ".py",
   "mimetype": "text/x-python",
   "name": "python",
   "nbconvert_exporter": "python",
   "pygments_lexer": "ipython3",
   "version": "3.7.16"
  }
 },
 "nbformat": 4,
 "nbformat_minor": 2
}
